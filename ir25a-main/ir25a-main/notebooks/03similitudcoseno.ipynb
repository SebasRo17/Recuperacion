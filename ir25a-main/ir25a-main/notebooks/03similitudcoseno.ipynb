{
 "cells": [
  {
   "cell_type": "markdown",
   "id": "07e25dcb",
   "metadata": {},
   "source": [
    "# Ejercicio 3: Representación Gráfica de Vectores de Documentos y Consultas,\n",
    "\n",
    "## Objetivo de la práctica,\n",
    "- Comprender la representación de documentos y consultas en el modelo de espacio vectorial, mediante el cálculo de matrices término-documento usando medidas como TF y TF-IDF.,\n",
    "- Aplicar la similitud coseno para comparar documentos con consultas, y utilizarla para recuperar y ordenar documentos según su relevancia.\",\n",
    "- Visualizar de forma intuitiva los vectores de documentos y consultas, mediante reducción de dimensionalidad y representación gráfica en el plano, para facilitar la interpretación geométrica de la recuperación de información."
   ]
  },
  {
   "cell_type": "markdown",
   "id": "c42ac8b1",
   "metadata": {},
   "source": [
    "## Parte 1: Construcción de la matriz término-documento y TF-IDF\",\n",
    "\n",
    "### Actividad\",\n",
    "1. Usa el siguiente corpus de 4 documentos.\",\n",
    "2. Vectoriza los documentos usando:\",\n",
    "   - Frecuencia absoluta (TF)\",\n",
    "   - TF-IDF\",\n",
    "3. Visualiza los documentos como un gráfico de dispersión 2D y 3D.\""
   ]
  },
  {
   "cell_type": "code",
   "execution_count": 22,
   "id": "5a27d198",
   "metadata": {},
   "outputs": [
    {
     "name": "stdout",
     "output_type": "stream",
     "text": [
      "Collecting pandas\n",
      "  Using cached pandas-2.2.3-cp311-cp311-win_amd64.whl.metadata (19 kB)\n",
      "Requirement already satisfied: numpy>=1.23.2 in c:\\users\\roble\\appdata\\local\\packages\\pythonsoftwarefoundation.python.3.11_qbz5n2kfra8p0\\localcache\\local-packages\\python311\\site-packages (from pandas) (2.2.5)\n",
      "Requirement already satisfied: python-dateutil>=2.8.2 in c:\\users\\roble\\appdata\\local\\packages\\pythonsoftwarefoundation.python.3.11_qbz5n2kfra8p0\\localcache\\local-packages\\python311\\site-packages (from pandas) (2.9.0.post0)\n",
      "Requirement already satisfied: pytz>=2020.1 in c:\\users\\roble\\appdata\\local\\packages\\pythonsoftwarefoundation.python.3.11_qbz5n2kfra8p0\\localcache\\local-packages\\python311\\site-packages (from pandas) (2025.2)\n",
      "Requirement already satisfied: tzdata>=2022.7 in c:\\users\\roble\\appdata\\local\\packages\\pythonsoftwarefoundation.python.3.11_qbz5n2kfra8p0\\localcache\\local-packages\\python311\\site-packages (from pandas) (2025.2)\n",
      "Requirement already satisfied: six>=1.5 in c:\\users\\roble\\appdata\\local\\packages\\pythonsoftwarefoundation.python.3.11_qbz5n2kfra8p0\\localcache\\local-packages\\python311\\site-packages (from python-dateutil>=2.8.2->pandas) (1.17.0)\n",
      "Using cached pandas-2.2.3-cp311-cp311-win_amd64.whl (11.6 MB)\n",
      "Installing collected packages: pandas\n",
      "Successfully installed pandas-2.2.3\n",
      "Note: you may need to restart the kernel to use updated packages.\n"
     ]
    },
    {
     "name": "stderr",
     "output_type": "stream",
     "text": [
      "\n",
      "[notice] A new release of pip is available: 24.0 -> 25.1.1\n",
      "[notice] To update, run: C:\\Users\\roble\\AppData\\Local\\Microsoft\\WindowsApps\\PythonSoftwareFoundation.Python.3.11_qbz5n2kfra8p0\\python.exe -m pip install --upgrade pip\n"
     ]
    }
   ],
   "source": [
    "# Install pandas if not already installed\n",
    "%pip install pandas\n",
    "\n",
    "import pandas as pd"
   ]
  },
  {
   "cell_type": "code",
   "execution_count": 3,
   "id": "63a7f564",
   "metadata": {},
   "outputs": [
    {
     "data": {
      "text/plain": [
       "['El gato se escondió debajo de la cama.',\n",
       " 'La cama estaba limpia y cómoda.',\n",
       " 'El perro y el gato jugaron en el jardín.',\n",
       " 'La limpieza del jardín es importante.']"
      ]
     },
     "execution_count": 3,
     "metadata": {},
     "output_type": "execute_result"
    }
   ],
   "source": [
    "documents = [\n",
    "    \"El gato se escondió debajo de la cama.\",\n",
    "    \"La cama estaba limpia y cómoda.\",\n",
    "    \"El perro y el gato jugaron en el jardín.\",\n",
    "    \"La limpieza del jardín es importante.\"\n",
    "]\n",
    "\n",
    "documents"
   ]
  },
  {
   "cell_type": "code",
   "execution_count": 12,
   "id": "29967d42",
   "metadata": {},
   "outputs": [
    {
     "data": {
      "text/plain": [
       "'el gato se escondió debajo de la cama'"
      ]
     },
     "execution_count": 12,
     "metadata": {},
     "output_type": "execute_result"
    }
   ],
   "source": [
    "documents[0].lower().strip('.')"
   ]
  },
  {
   "cell_type": "code",
   "execution_count": 13,
   "id": "0aea266f",
   "metadata": {},
   "outputs": [
    {
     "name": "stdout",
     "output_type": "stream",
     "text": [
      "20\n"
     ]
    }
   ],
   "source": [
    "vocab = set()\n",
    "for doc in documents:\n",
    "    for word in doc.lower().strip('.').split():\n",
    "        vocab.add(word)\n",
    "print (len(vocab))"
   ]
  },
  {
   "cell_type": "code",
   "execution_count": 19,
   "id": "c4d99243",
   "metadata": {},
   "outputs": [
    {
     "name": "stdout",
     "output_type": "stream",
     "text": [
      "{'El gato se escondió debajo de la cama.': {'en': 0, 'y': 0, 'jardín': 0, 'limpieza': 0, 'escondió': 1, 'cama': 1, 'debajo': 1, 'estaba': 0, 'el': 1, 'limpia': 0, 'perro': 0, 'del': 0, 'se': 1, 'importante': 0, 'la': 1, 'gato': 1, 'es': 1, 'jugaron': 0, 'de': 2, 'cómoda': 0}, 'La cama estaba limpia y cómoda.': {'en': 0, 'y': 1, 'jardín': 0, 'limpieza': 0, 'escondió': 0, 'cama': 1, 'debajo': 0, 'estaba': 1, 'el': 0, 'limpia': 1, 'perro': 0, 'del': 0, 'se': 0, 'importante': 0, 'la': 1, 'gato': 0, 'es': 1, 'jugaron': 0, 'de': 0, 'cómoda': 1}, 'El perro y el gato jugaron en el jardín.': {'en': 1, 'y': 1, 'jardín': 1, 'limpieza': 0, 'escondió': 0, 'cama': 0, 'debajo': 0, 'estaba': 0, 'el': 3, 'limpia': 0, 'perro': 1, 'del': 0, 'se': 0, 'importante': 0, 'la': 0, 'gato': 1, 'es': 0, 'jugaron': 1, 'de': 0, 'cómoda': 0}, 'La limpieza del jardín es importante.': {'en': 0, 'y': 0, 'jardín': 1, 'limpieza': 1, 'escondió': 0, 'cama': 0, 'debajo': 0, 'estaba': 0, 'el': 1, 'limpia': 0, 'perro': 0, 'del': 1, 'se': 0, 'importante': 1, 'la': 1, 'gato': 0, 'es': 1, 'jugaron': 0, 'de': 1, 'cómoda': 0}}\n"
     ]
    }
   ],
   "source": [
    "dict_tf = {}\n",
    "i=0\n",
    "for doc in documents:\n",
    "    dict_tfd = {}\n",
    "    for term in vocab:\n",
    "        count = doc.lower().strip('.').count(term)\n",
    "        dict_tfd[term] = count\n",
    "    #print (doc, dict_tfd)\n",
    "    dict_tf[doc] = dict_tfd\n",
    "    i =+ 1\n",
    "print (dict_tf)\n"
   ]
  },
  {
   "cell_type": "code",
   "execution_count": 23,
   "id": "6ff49228",
   "metadata": {},
   "outputs": [
    {
     "data": {
      "text/html": [
       "<div>\n",
       "<style scoped>\n",
       "    .dataframe tbody tr th:only-of-type {\n",
       "        vertical-align: middle;\n",
       "    }\n",
       "\n",
       "    .dataframe tbody tr th {\n",
       "        vertical-align: top;\n",
       "    }\n",
       "\n",
       "    .dataframe thead th {\n",
       "        text-align: right;\n",
       "    }\n",
       "</style>\n",
       "<table border=\"1\" class=\"dataframe\">\n",
       "  <thead>\n",
       "    <tr style=\"text-align: right;\">\n",
       "      <th></th>\n",
       "      <th>El gato se escondió debajo de la cama.</th>\n",
       "      <th>La cama estaba limpia y cómoda.</th>\n",
       "      <th>El perro y el gato jugaron en el jardín.</th>\n",
       "      <th>La limpieza del jardín es importante.</th>\n",
       "    </tr>\n",
       "  </thead>\n",
       "  <tbody>\n",
       "    <tr>\n",
       "      <th>en</th>\n",
       "      <td>0</td>\n",
       "      <td>0</td>\n",
       "      <td>1</td>\n",
       "      <td>0</td>\n",
       "    </tr>\n",
       "    <tr>\n",
       "      <th>y</th>\n",
       "      <td>0</td>\n",
       "      <td>1</td>\n",
       "      <td>1</td>\n",
       "      <td>0</td>\n",
       "    </tr>\n",
       "    <tr>\n",
       "      <th>jardín</th>\n",
       "      <td>0</td>\n",
       "      <td>0</td>\n",
       "      <td>1</td>\n",
       "      <td>1</td>\n",
       "    </tr>\n",
       "    <tr>\n",
       "      <th>limpieza</th>\n",
       "      <td>0</td>\n",
       "      <td>0</td>\n",
       "      <td>0</td>\n",
       "      <td>1</td>\n",
       "    </tr>\n",
       "    <tr>\n",
       "      <th>escondió</th>\n",
       "      <td>1</td>\n",
       "      <td>0</td>\n",
       "      <td>0</td>\n",
       "      <td>0</td>\n",
       "    </tr>\n",
       "    <tr>\n",
       "      <th>cama</th>\n",
       "      <td>1</td>\n",
       "      <td>1</td>\n",
       "      <td>0</td>\n",
       "      <td>0</td>\n",
       "    </tr>\n",
       "    <tr>\n",
       "      <th>debajo</th>\n",
       "      <td>1</td>\n",
       "      <td>0</td>\n",
       "      <td>0</td>\n",
       "      <td>0</td>\n",
       "    </tr>\n",
       "    <tr>\n",
       "      <th>estaba</th>\n",
       "      <td>0</td>\n",
       "      <td>1</td>\n",
       "      <td>0</td>\n",
       "      <td>0</td>\n",
       "    </tr>\n",
       "    <tr>\n",
       "      <th>el</th>\n",
       "      <td>1</td>\n",
       "      <td>0</td>\n",
       "      <td>3</td>\n",
       "      <td>1</td>\n",
       "    </tr>\n",
       "    <tr>\n",
       "      <th>limpia</th>\n",
       "      <td>0</td>\n",
       "      <td>1</td>\n",
       "      <td>0</td>\n",
       "      <td>0</td>\n",
       "    </tr>\n",
       "    <tr>\n",
       "      <th>perro</th>\n",
       "      <td>0</td>\n",
       "      <td>0</td>\n",
       "      <td>1</td>\n",
       "      <td>0</td>\n",
       "    </tr>\n",
       "    <tr>\n",
       "      <th>del</th>\n",
       "      <td>0</td>\n",
       "      <td>0</td>\n",
       "      <td>0</td>\n",
       "      <td>1</td>\n",
       "    </tr>\n",
       "    <tr>\n",
       "      <th>se</th>\n",
       "      <td>1</td>\n",
       "      <td>0</td>\n",
       "      <td>0</td>\n",
       "      <td>0</td>\n",
       "    </tr>\n",
       "    <tr>\n",
       "      <th>importante</th>\n",
       "      <td>0</td>\n",
       "      <td>0</td>\n",
       "      <td>0</td>\n",
       "      <td>1</td>\n",
       "    </tr>\n",
       "    <tr>\n",
       "      <th>la</th>\n",
       "      <td>1</td>\n",
       "      <td>1</td>\n",
       "      <td>0</td>\n",
       "      <td>1</td>\n",
       "    </tr>\n",
       "    <tr>\n",
       "      <th>gato</th>\n",
       "      <td>1</td>\n",
       "      <td>0</td>\n",
       "      <td>1</td>\n",
       "      <td>0</td>\n",
       "    </tr>\n",
       "    <tr>\n",
       "      <th>es</th>\n",
       "      <td>1</td>\n",
       "      <td>1</td>\n",
       "      <td>0</td>\n",
       "      <td>1</td>\n",
       "    </tr>\n",
       "    <tr>\n",
       "      <th>jugaron</th>\n",
       "      <td>0</td>\n",
       "      <td>0</td>\n",
       "      <td>1</td>\n",
       "      <td>0</td>\n",
       "    </tr>\n",
       "    <tr>\n",
       "      <th>de</th>\n",
       "      <td>2</td>\n",
       "      <td>0</td>\n",
       "      <td>0</td>\n",
       "      <td>1</td>\n",
       "    </tr>\n",
       "    <tr>\n",
       "      <th>cómoda</th>\n",
       "      <td>0</td>\n",
       "      <td>1</td>\n",
       "      <td>0</td>\n",
       "      <td>0</td>\n",
       "    </tr>\n",
       "  </tbody>\n",
       "</table>\n",
       "</div>"
      ],
      "text/plain": [
       "            El gato se escondió debajo de la cama.  \\\n",
       "en                                               0   \n",
       "y                                                0   \n",
       "jardín                                           0   \n",
       "limpieza                                         0   \n",
       "escondió                                         1   \n",
       "cama                                             1   \n",
       "debajo                                           1   \n",
       "estaba                                           0   \n",
       "el                                               1   \n",
       "limpia                                           0   \n",
       "perro                                            0   \n",
       "del                                              0   \n",
       "se                                               1   \n",
       "importante                                       0   \n",
       "la                                               1   \n",
       "gato                                             1   \n",
       "es                                               1   \n",
       "jugaron                                          0   \n",
       "de                                               2   \n",
       "cómoda                                           0   \n",
       "\n",
       "            La cama estaba limpia y cómoda.  \\\n",
       "en                                        0   \n",
       "y                                         1   \n",
       "jardín                                    0   \n",
       "limpieza                                  0   \n",
       "escondió                                  0   \n",
       "cama                                      1   \n",
       "debajo                                    0   \n",
       "estaba                                    1   \n",
       "el                                        0   \n",
       "limpia                                    1   \n",
       "perro                                     0   \n",
       "del                                       0   \n",
       "se                                        0   \n",
       "importante                                0   \n",
       "la                                        1   \n",
       "gato                                      0   \n",
       "es                                        1   \n",
       "jugaron                                   0   \n",
       "de                                        0   \n",
       "cómoda                                    1   \n",
       "\n",
       "            El perro y el gato jugaron en el jardín.  \\\n",
       "en                                                 1   \n",
       "y                                                  1   \n",
       "jardín                                             1   \n",
       "limpieza                                           0   \n",
       "escondió                                           0   \n",
       "cama                                               0   \n",
       "debajo                                             0   \n",
       "estaba                                             0   \n",
       "el                                                 3   \n",
       "limpia                                             0   \n",
       "perro                                              1   \n",
       "del                                                0   \n",
       "se                                                 0   \n",
       "importante                                         0   \n",
       "la                                                 0   \n",
       "gato                                               1   \n",
       "es                                                 0   \n",
       "jugaron                                            1   \n",
       "de                                                 0   \n",
       "cómoda                                             0   \n",
       "\n",
       "            La limpieza del jardín es importante.  \n",
       "en                                              0  \n",
       "y                                               0  \n",
       "jardín                                          1  \n",
       "limpieza                                        1  \n",
       "escondió                                        0  \n",
       "cama                                            0  \n",
       "debajo                                          0  \n",
       "estaba                                          0  \n",
       "el                                              1  \n",
       "limpia                                          0  \n",
       "perro                                           0  \n",
       "del                                             1  \n",
       "se                                              0  \n",
       "importante                                      1  \n",
       "la                                              1  \n",
       "gato                                            0  \n",
       "es                                              1  \n",
       "jugaron                                         0  \n",
       "de                                              1  \n",
       "cómoda                                          0  "
      ]
     },
     "execution_count": 23,
     "metadata": {},
     "output_type": "execute_result"
    }
   ],
   "source": [
    "matriz = pd.DataFrame(dict_tf)\n",
    "matriz"
   ]
  },
  {
   "cell_type": "code",
   "execution_count": 26,
   "id": "066d6f99",
   "metadata": {},
   "outputs": [],
   "source": [
    "matriz.to_csv('matriz_tf.csv', index=True, header=True)"
   ]
  },
  {
   "cell_type": "code",
   "execution_count": 31,
   "id": "8a06674e",
   "metadata": {},
   "outputs": [
    {
     "name": "stdout",
     "output_type": "stream",
     "text": [
      "Requirement already satisfied: scikit-learn in c:\\users\\roble\\appdata\\local\\packages\\pythonsoftwarefoundation.python.3.11_qbz5n2kfra8p0\\localcache\\local-packages\\python311\\site-packages (1.6.1)\n",
      "Requirement already satisfied: numpy>=1.19.5 in c:\\users\\roble\\appdata\\local\\packages\\pythonsoftwarefoundation.python.3.11_qbz5n2kfra8p0\\localcache\\local-packages\\python311\\site-packages (from scikit-learn) (2.2.5)\n",
      "Requirement already satisfied: scipy>=1.6.0 in c:\\users\\roble\\appdata\\local\\packages\\pythonsoftwarefoundation.python.3.11_qbz5n2kfra8p0\\localcache\\local-packages\\python311\\site-packages (from scikit-learn) (1.15.3)\n",
      "Requirement already satisfied: joblib>=1.2.0 in c:\\users\\roble\\appdata\\local\\packages\\pythonsoftwarefoundation.python.3.11_qbz5n2kfra8p0\\localcache\\local-packages\\python311\\site-packages (from scikit-learn) (1.5.0)\n",
      "Requirement already satisfied: threadpoolctl>=3.1.0 in c:\\users\\roble\\appdata\\local\\packages\\pythonsoftwarefoundation.python.3.11_qbz5n2kfra8p0\\localcache\\local-packages\\python311\\site-packages (from scikit-learn) (3.6.0)\n",
      "Note: you may need to restart the kernel to use updated packages.\n"
     ]
    },
    {
     "name": "stderr",
     "output_type": "stream",
     "text": [
      "\n",
      "[notice] A new release of pip is available: 24.0 -> 25.1.1\n",
      "[notice] To update, run: C:\\Users\\roble\\AppData\\Local\\Microsoft\\WindowsApps\\PythonSoftwareFoundation.Python.3.11_qbz5n2kfra8p0\\python.exe -m pip install --upgrade pip\n"
     ]
    },
    {
     "name": "stdout",
     "output_type": "stream",
     "text": [
      "Collecting matplotlib\n",
      "  Using cached matplotlib-3.10.3-cp311-cp311-win_amd64.whl.metadata (11 kB)\n",
      "Collecting contourpy>=1.0.1 (from matplotlib)\n",
      "  Using cached contourpy-1.3.2-cp311-cp311-win_amd64.whl.metadata (5.5 kB)\n",
      "Requirement already satisfied: cycler>=0.10 in c:\\users\\roble\\appdata\\local\\packages\\pythonsoftwarefoundation.python.3.11_qbz5n2kfra8p0\\localcache\\local-packages\\python311\\site-packages (from matplotlib) (0.12.1)\n",
      "Requirement already satisfied: fonttools>=4.22.0 in c:\\users\\roble\\appdata\\local\\packages\\pythonsoftwarefoundation.python.3.11_qbz5n2kfra8p0\\localcache\\local-packages\\python311\\site-packages (from matplotlib) (4.58.0)\n",
      "Requirement already satisfied: kiwisolver>=1.3.1 in c:\\users\\roble\\appdata\\local\\packages\\pythonsoftwarefoundation.python.3.11_qbz5n2kfra8p0\\localcache\\local-packages\\python311\\site-packages (from matplotlib) (1.4.8)\n",
      "Requirement already satisfied: numpy>=1.23 in c:\\users\\roble\\appdata\\local\\packages\\pythonsoftwarefoundation.python.3.11_qbz5n2kfra8p0\\localcache\\local-packages\\python311\\site-packages (from matplotlib) (2.2.5)\n",
      "Requirement already satisfied: packaging>=20.0 in c:\\users\\roble\\appdata\\local\\packages\\pythonsoftwarefoundation.python.3.11_qbz5n2kfra8p0\\localcache\\local-packages\\python311\\site-packages (from matplotlib) (25.0)\n",
      "Requirement already satisfied: pillow>=8 in c:\\users\\roble\\appdata\\local\\packages\\pythonsoftwarefoundation.python.3.11_qbz5n2kfra8p0\\localcache\\local-packages\\python311\\site-packages (from matplotlib) (11.2.1)\n",
      "Requirement already satisfied: pyparsing>=2.3.1 in c:\\users\\roble\\appdata\\local\\packages\\pythonsoftwarefoundation.python.3.11_qbz5n2kfra8p0\\localcache\\local-packages\\python311\\site-packages (from matplotlib) (3.2.3)\n",
      "Requirement already satisfied: python-dateutil>=2.7 in c:\\users\\roble\\appdata\\local\\packages\\pythonsoftwarefoundation.python.3.11_qbz5n2kfra8p0\\localcache\\local-packages\\python311\\site-packages (from matplotlib) (2.9.0.post0)\n",
      "Requirement already satisfied: six>=1.5 in c:\\users\\roble\\appdata\\local\\packages\\pythonsoftwarefoundation.python.3.11_qbz5n2kfra8p0\\localcache\\local-packages\\python311\\site-packages (from python-dateutil>=2.7->matplotlib) (1.17.0)\n",
      "Using cached matplotlib-3.10.3-cp311-cp311-win_amd64.whl (8.1 MB)\n",
      "Using cached contourpy-1.3.2-cp311-cp311-win_amd64.whl (222 kB)\n",
      "Installing collected packages: contourpy, matplotlib\n",
      "Successfully installed contourpy-1.3.2 matplotlib-3.10.3\n",
      "Note: you may need to restart the kernel to use updated packages.\n"
     ]
    },
    {
     "name": "stderr",
     "output_type": "stream",
     "text": [
      "\n",
      "[notice] A new release of pip is available: 24.0 -> 25.1.1\n",
      "[notice] To update, run: C:\\Users\\roble\\AppData\\Local\\Microsoft\\WindowsApps\\PythonSoftwareFoundation.Python.3.11_qbz5n2kfra8p0\\python.exe -m pip install --upgrade pip\n"
     ]
    }
   ],
   "source": [
    "%pip install scikit-learn\n",
    "%pip install matplotlib\n",
    "\n",
    "from sklearn.decomposition import PCA\n",
    "import matplotlib.pyplot as plt\n"
   ]
  },
  {
   "cell_type": "code",
   "execution_count": 32,
   "id": "5d9b7fc1",
   "metadata": {},
   "outputs": [
    {
     "data": {
      "image/png": "[encoded data removed]",
      "text/plain": [
       "<Figure size 640x480 with 1 Axes>"
      ]
     },
     "metadata": {},
     "output_type": "display_data"
    }
   ],
   "source": [
    "# Representación TF\n",
    "\n",
    "\n",
    "# Representación TF-IDF\n",
    "\n",
    "# Reducción PCA y visualización 2D\n",
    "pca = PCA(n_components=2)\n",
    "docs_2d = pca.fit_transform(matriz.T)\n",
    "docs_2d\n",
    "\n",
    "\n",
    "plt.scatter(docs_2d[:,0], docs_2d[:,1])\n",
    "for i, txt in enumerate([\"D1\", \"D2\", \"D3\", \"D4\"]):\n",
    "    plt.annotate(txt, (docs_2d[i,0], docs_2d[i,1]))\n",
    "plt.title(\"Documentos en espacio vectorial 2D (TF-IDF + PCA)\")\n",
    "plt.xlabel(\"PC1\")\n",
    "plt.ylabel(\"PC2\")\n",
    "plt.grid()\n",
    "plt.show()\n",
    "\n",
    "# Reducción PCA y visualización 3D"
   ]
  },
  {
   "cell_type": "code",
   "execution_count": 37,
   "id": "fc0f5378",
   "metadata": {},
   "outputs": [
    {
     "data": {
      "image/png": "[encoded data removed]",
      "text/plain": [
       "<Figure size 1000x600 with 1 Axes>"
      ]
     },
     "metadata": {},
     "output_type": "display_data"
    },
    {
     "data": {
      "image/png": "[encoded data removed]",
      "text/plain": [
       "<Figure size 1000x600 with 1 Axes>"
      ]
     },
     "metadata": {},
     "output_type": "display_data"
    }
   ],
   "source": [
    "plt.figure(figsize=(10, 6))\n",
    "for i, (x,y) in enumerate(docs_2d):\n",
    "    plt.arrow(0,  0, x, y, head_width=0.02, head_length=0.02, fc='blue', ec='blue', alpha=0.6)\n",
    "    plt.text(x * 1.1, y *1.1, f\"D{i+1}\", fontsize=10)\n",
    "\n",
    "plt.title(\"Documentos en espacio vectorial 3D (TF-IDF + PCA)\")\n",
    "plt.xlabel(\"PC1\")\n",
    "plt.ylabel(\"PC2\")\n",
    "plt.axhline(0, color='black', lw=0.5)\n",
    "plt.axvline(0, color='black', lw=0.5)\n",
    "plt.grid(True)\n",
    "plt.gca().set_aspect('equal', adjustable='box')\n",
    "plt.show()\n",
    "\n",
    "# Redibujar la gráfica con todos los vectores\n",
    "plt.figure(figsize=(10, 6))\n",
    "for i, (x, y) in enumerate(docs_2d):\n",
    "    plt.arrow(0, 0, x, y, head_width=0.02, head_length=0.02, fc='blue', ec='blue', alpha=0.6)\n",
    "    plt.text(x * 1.1, y * 1.1, f\"D{i+1}\", fontsize=10)\n",
    "\n",
    "# Añadir el vector de \"gato\" a la misma gráfica\n",
    "if \"gato\" in vocab:\n",
    "    plt.arrow(0, 0, vector_gato[0], vector_gato[1], head_width=0.02, head_length=0.02, fc='red', ec='red', alpha=0.8)\n",
    "    plt.text(vector_gato[0] * 1.1, vector_gato[1] * 1.1, \"gato\", fontsize=10, color='red')\n",
    "\n",
    "plt.title(\"Documentos en espacio vectorial 2D (TF-IDF + PCA)\")\n",
    "plt.xlabel(\"PC1\")\n",
    "plt.ylabel(\"PC2\")\n",
    "plt.axhline(0, color='black', lw=0.5)\n",
    "plt.axvline(0, color='black', lw=0.5)\n",
    "plt.grid(True)\n",
    "plt.gca().set_aspect('equal', adjustable='box')\n",
    "plt.show()\n"
   ]
  }
 ],
 "metadata": {
  "kernelspec": {
   "display_name": "Python 3",
   "language": "python",
   "name": "python3"
  },
  "language_info": {
   "codemirror_mode": {
    "name": "ipython",
    "version": 3
   },
   "file_extension": ".py",
   "mimetype": "text/x-python",
   "name": "python",
   "nbconvert_exporter": "python",
   "pygments_lexer": "ipython3",
   "version": "3.11.9"
  }
 },
 "nbformat": 4,
 "nbformat_minor": 5
}
