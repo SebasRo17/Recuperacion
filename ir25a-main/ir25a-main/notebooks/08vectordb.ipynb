{
 "cells": [
  {
   "cell_type": "markdown",
   "id": "7900d048bdae22eb",
   "metadata": {},
   "source": [
    "# Ejercicio 8: Bases de Datos Vectoriales\n",
    "\n",
    "Las bases de datos vectoriales permiten almacenar y recuperar información representada como vectores en espacios de alta dimensión. Primero vamos a revisar los fundamentos matemáticos en los que se basan.\n",
    "\n",
    "## 1. Espacios Vectoriales\n",
    "\n",
    "Cada documento, imagen, o consulta se representa como un vector real en un espacio ℝ^n:\n",
    "\n",
    "$\\[ \\vec{d} = [d_1, d_2, \\dots, d_n] \\in \\mathbb{R}^n \\]$\n",
    "\n",
    "Donde $\\( n \\)$ suele ser 384, 768 o 1536, dependiendo del modelo de embeddings utilizado."
   ]
  },
  {
   "cell_type": "code",
   "execution_count": 19,
   "id": "7631f3c6",
   "metadata": {},
   "outputs": [],
   "source": [
    "from sklearn.datasets import fetch_20newsgroups\n",
    "\n",
    "newsgroups = fetch_20newsgroups(subset='all', remove=('headers', 'footers', 'quotes'))\n",
    "newsgroupsdocs = newsgroups.data"
   ]
  },
  {
   "cell_type": "code",
   "execution_count": 20,
   "id": "c16a229b",
   "metadata": {},
   "outputs": [],
   "source": [
    "import pandas as pd"
   ]
  },
  {
   "cell_type": "code",
   "execution_count": 21,
   "id": "70515365",
   "metadata": {},
   "outputs": [
    {
     "data": {
      "text/html": [
       "<div>\n",
       "<style scoped>\n",
       "    .dataframe tbody tr th:only-of-type {\n",
       "        vertical-align: middle;\n",
       "    }\n",
       "\n",
       "    .dataframe tbody tr th {\n",
       "        vertical-align: top;\n",
       "    }\n",
       "\n",
       "    .dataframe thead th {\n",
       "        text-align: right;\n",
       "    }\n",
       "</style>\n",
       "<table border=\"1\" class=\"dataframe\">\n",
       "  <thead>\n",
       "    <tr style=\"text-align: right;\">\n",
       "      <th></th>\n",
       "      <th>raw</th>\n",
       "    </tr>\n",
       "  </thead>\n",
       "  <tbody>\n",
       "    <tr>\n",
       "      <th>0</th>\n",
       "      <td>\\n\\nI am sure some bashers of Pens fans are pr...</td>\n",
       "    </tr>\n",
       "    <tr>\n",
       "      <th>1</th>\n",
       "      <td>My brother is in the market for a high-perform...</td>\n",
       "    </tr>\n",
       "    <tr>\n",
       "      <th>2</th>\n",
       "      <td>\\n\\n\\n\\n\\tFinally you said what you dream abou...</td>\n",
       "    </tr>\n",
       "    <tr>\n",
       "      <th>3</th>\n",
       "      <td>\\nThink!\\n\\nIt's the SCSI card doing the DMA t...</td>\n",
       "    </tr>\n",
       "    <tr>\n",
       "      <th>4</th>\n",
       "      <td>1)    I have an old Jasmine drive which I cann...</td>\n",
       "    </tr>\n",
       "    <tr>\n",
       "      <th>...</th>\n",
       "      <td>...</td>\n",
       "    </tr>\n",
       "    <tr>\n",
       "      <th>18841</th>\n",
       "      <td>DN&gt; From: nyeda@cnsvax.uwec.edu (David Nye)\\nD...</td>\n",
       "    </tr>\n",
       "    <tr>\n",
       "      <th>18842</th>\n",
       "      <td>\\nNot in isolated ground recepticles (usually ...</td>\n",
       "    </tr>\n",
       "    <tr>\n",
       "      <th>18843</th>\n",
       "      <td>I just installed a DX2-66 CPU in a clone mothe...</td>\n",
       "    </tr>\n",
       "    <tr>\n",
       "      <th>18844</th>\n",
       "      <td>\\nWouldn't this require a hyper-sphere.  In 3-...</td>\n",
       "    </tr>\n",
       "    <tr>\n",
       "      <th>18845</th>\n",
       "      <td>After a tip from Gary Crum (crum@fcom.cc.utah....</td>\n",
       "    </tr>\n",
       "  </tbody>\n",
       "</table>\n",
       "<p>18846 rows × 1 columns</p>\n",
       "</div>"
      ],
      "text/plain": [
       "                                                     raw\n",
       "0      \\n\\nI am sure some bashers of Pens fans are pr...\n",
       "1      My brother is in the market for a high-perform...\n",
       "2      \\n\\n\\n\\n\\tFinally you said what you dream abou...\n",
       "3      \\nThink!\\n\\nIt's the SCSI card doing the DMA t...\n",
       "4      1)    I have an old Jasmine drive which I cann...\n",
       "...                                                  ...\n",
       "18841  DN> From: nyeda@cnsvax.uwec.edu (David Nye)\\nD...\n",
       "18842  \\nNot in isolated ground recepticles (usually ...\n",
       "18843  I just installed a DX2-66 CPU in a clone mothe...\n",
       "18844  \\nWouldn't this require a hyper-sphere.  In 3-...\n",
       "18845  After a tip from Gary Crum (crum@fcom.cc.utah....\n",
       "\n",
       "[18846 rows x 1 columns]"
      ]
     },
     "execution_count": 21,
     "metadata": {},
     "output_type": "execute_result"
    }
   ],
   "source": [
    "newsgroupsdocs_df = pd.DataFrame(newsgroupsdocs, columns=['raw'])\n",
    "newsgroupsdocs_df"
   ]
  },
  {
   "cell_type": "code",
   "execution_count": 34,
   "id": "82ace79e",
   "metadata": {},
   "outputs": [
    {
     "name": "stderr",
     "output_type": "stream",
     "text": [
      "[nltk_data] Downloading package stopwords to\n",
      "[nltk_data]     C:\\Users\\roble\\AppData\\Roaming\\nltk_data...\n",
      "[nltk_data]   Package stopwords is already up-to-date!\n",
      "[nltk_data] Downloading package punkt_tab to\n",
      "[nltk_data]     C:\\Users\\roble\\AppData\\Roaming\\nltk_data...\n",
      "[nltk_data]   Package punkt_tab is already up-to-date!\n"
     ]
    },
    {
     "data": {
      "text/plain": [
       "True"
      ]
     },
     "execution_count": 34,
     "metadata": {},
     "output_type": "execute_result"
    }
   ],
   "source": [
    "from nltk.corpus import stopwords\n",
    "from nltk.tokenize import word_tokenize\n",
    "import nltk\n",
    "import numpy as np\n",
    "nltk.download('stopwords')\n",
    "nltk.download('punkt_tab')"
   ]
  },
  {
   "cell_type": "code",
   "execution_count": 37,
   "id": "01aced51",
   "metadata": {},
   "outputs": [],
   "source": [
    "stop_words = set(stopwords.words('english'))\n",
    "def preprocess_docs(docs):\n",
    "    words = word_tokenize(docs)\n",
    "    word_filtered = [w for w in words if w not in stop_words and w.isalpha()]\n",
    "    return ' '.join(word_filtered)"
   ]
  },
  {
   "cell_type": "code",
   "execution_count": 38,
   "id": "f33caa8b",
   "metadata": {},
   "outputs": [
    {
     "data": {
      "text/html": [
       "<div>\n",
       "<style scoped>\n",
       "    .dataframe tbody tr th:only-of-type {\n",
       "        vertical-align: middle;\n",
       "    }\n",
       "\n",
       "    .dataframe tbody tr th {\n",
       "        vertical-align: top;\n",
       "    }\n",
       "\n",
       "    .dataframe thead th {\n",
       "        text-align: right;\n",
       "    }\n",
       "</style>\n",
       "<table border=\"1\" class=\"dataframe\">\n",
       "  <thead>\n",
       "    <tr style=\"text-align: right;\">\n",
       "      <th></th>\n",
       "      <th>raw</th>\n",
       "      <th>preprocessed</th>\n",
       "    </tr>\n",
       "  </thead>\n",
       "  <tbody>\n",
       "    <tr>\n",
       "      <th>0</th>\n",
       "      <td>\\n\\nI am sure some bashers of Pens fans are pr...</td>\n",
       "      <td>I sure bashers Pens fans pretty confused lack ...</td>\n",
       "    </tr>\n",
       "    <tr>\n",
       "      <th>1</th>\n",
       "      <td>My brother is in the market for a high-perform...</td>\n",
       "      <td>My brother market video card supports VESA loc...</td>\n",
       "    </tr>\n",
       "    <tr>\n",
       "      <th>2</th>\n",
       "      <td>\\n\\n\\n\\n\\tFinally you said what you dream abou...</td>\n",
       "      <td>Finally said dream Mediterranean That new The ...</td>\n",
       "    </tr>\n",
       "    <tr>\n",
       "      <th>3</th>\n",
       "      <td>\\nThink!\\n\\nIt's the SCSI card doing the DMA t...</td>\n",
       "      <td>Think It SCSI card DMA transfers NOT disks The...</td>\n",
       "    </tr>\n",
       "    <tr>\n",
       "      <th>4</th>\n",
       "      <td>1)    I have an old Jasmine drive which I cann...</td>\n",
       "      <td>I old Jasmine drive I use new system My unders...</td>\n",
       "    </tr>\n",
       "    <tr>\n",
       "      <th>...</th>\n",
       "      <td>...</td>\n",
       "      <td>...</td>\n",
       "    </tr>\n",
       "    <tr>\n",
       "      <th>18841</th>\n",
       "      <td>DN&gt; From: nyeda@cnsvax.uwec.edu (David Nye)\\nD...</td>\n",
       "      <td>DN From nyeda David Nye DN A neurology DN cons...</td>\n",
       "    </tr>\n",
       "    <tr>\n",
       "      <th>18842</th>\n",
       "      <td>\\nNot in isolated ground recepticles (usually ...</td>\n",
       "      <td>Not isolated ground recepticles usually unusua...</td>\n",
       "    </tr>\n",
       "    <tr>\n",
       "      <th>18843</th>\n",
       "      <td>I just installed a DX2-66 CPU in a clone mothe...</td>\n",
       "      <td>I installed CPU clone motherboard tried mounti...</td>\n",
       "    </tr>\n",
       "    <tr>\n",
       "      <th>18844</th>\n",
       "      <td>\\nWouldn't this require a hyper-sphere.  In 3-...</td>\n",
       "      <td>Would require In points specifies sphere far I...</td>\n",
       "    </tr>\n",
       "    <tr>\n",
       "      <th>18845</th>\n",
       "      <td>After a tip from Gary Crum (crum@fcom.cc.utah....</td>\n",
       "      <td>After tip Gary Crum crum I got Phone Pontiac S...</td>\n",
       "    </tr>\n",
       "  </tbody>\n",
       "</table>\n",
       "<p>18846 rows × 2 columns</p>\n",
       "</div>"
      ],
      "text/plain": [
       "                                                     raw  \\\n",
       "0      \\n\\nI am sure some bashers of Pens fans are pr...   \n",
       "1      My brother is in the market for a high-perform...   \n",
       "2      \\n\\n\\n\\n\\tFinally you said what you dream abou...   \n",
       "3      \\nThink!\\n\\nIt's the SCSI card doing the DMA t...   \n",
       "4      1)    I have an old Jasmine drive which I cann...   \n",
       "...                                                  ...   \n",
       "18841  DN> From: nyeda@cnsvax.uwec.edu (David Nye)\\nD...   \n",
       "18842  \\nNot in isolated ground recepticles (usually ...   \n",
       "18843  I just installed a DX2-66 CPU in a clone mothe...   \n",
       "18844  \\nWouldn't this require a hyper-sphere.  In 3-...   \n",
       "18845  After a tip from Gary Crum (crum@fcom.cc.utah....   \n",
       "\n",
       "                                            preprocessed  \n",
       "0      I sure bashers Pens fans pretty confused lack ...  \n",
       "1      My brother market video card supports VESA loc...  \n",
       "2      Finally said dream Mediterranean That new The ...  \n",
       "3      Think It SCSI card DMA transfers NOT disks The...  \n",
       "4      I old Jasmine drive I use new system My unders...  \n",
       "...                                                  ...  \n",
       "18841  DN From nyeda David Nye DN A neurology DN cons...  \n",
       "18842  Not isolated ground recepticles usually unusua...  \n",
       "18843  I installed CPU clone motherboard tried mounti...  \n",
       "18844  Would require In points specifies sphere far I...  \n",
       "18845  After tip Gary Crum crum I got Phone Pontiac S...  \n",
       "\n",
       "[18846 rows x 2 columns]"
      ]
     },
     "execution_count": 38,
     "metadata": {},
     "output_type": "execute_result"
    }
   ],
   "source": [
    "newsgroupsdocs_df['preprocessed'] = newsgroupsdocs_df['raw'].apply(preprocess_docs)\n",
    "newsgroupsdocs_df"
   ]
  },
  {
   "cell_type": "code",
   "execution_count": 29,
   "id": "5089e4fd",
   "metadata": {},
   "outputs": [],
   "source": [
    "import gensim.downloader as api\n",
    "model = api.load(\"word2vec-google-news-300\")"
   ]
  },
  {
   "cell_type": "code",
   "execution_count": 41,
   "id": "0242d505",
   "metadata": {},
   "outputs": [],
   "source": [
    "def embedding_doc(doc):\n",
    "    words = word_tokenize(doc)\n",
    "    vec_words = [model[word] for word in words if word in model]\n",
    "    return np.mean(vec_words, axis=0)\n",
    "\n"
   ]
  },
  {
   "cell_type": "code",
   "execution_count": 42,
   "id": "cc9d84df",
   "metadata": {},
   "outputs": [
    {
     "name": "stderr",
     "output_type": "stream",
     "text": [
      "C:\\Users\\roble\\AppData\\Local\\Packages\\PythonSoftwareFoundation.Python.3.11_qbz5n2kfra8p0\\LocalCache\\local-packages\\Python311\\site-packages\\numpy\\core\\fromnumeric.py:3504: RuntimeWarning: Mean of empty slice.\n",
      "  return _methods._mean(a, axis=axis, dtype=dtype,\n",
      "C:\\Users\\roble\\AppData\\Local\\Packages\\PythonSoftwareFoundation.Python.3.11_qbz5n2kfra8p0\\LocalCache\\local-packages\\Python311\\site-packages\\numpy\\core\\_methods.py:129: RuntimeWarning: invalid value encountered in scalar divide\n",
      "  ret = ret.dtype.type(ret / rcount)\n"
     ]
    },
    {
     "data": {
      "text/html": [
       "<div>\n",
       "<style scoped>\n",
       "    .dataframe tbody tr th:only-of-type {\n",
       "        vertical-align: middle;\n",
       "    }\n",
       "\n",
       "    .dataframe tbody tr th {\n",
       "        vertical-align: top;\n",
       "    }\n",
       "\n",
       "    .dataframe thead th {\n",
       "        text-align: right;\n",
       "    }\n",
       "</style>\n",
       "<table border=\"1\" class=\"dataframe\">\n",
       "  <thead>\n",
       "    <tr style=\"text-align: right;\">\n",
       "      <th></th>\n",
       "      <th>raw</th>\n",
       "      <th>preprocessed</th>\n",
       "      <th>embedding</th>\n",
       "    </tr>\n",
       "  </thead>\n",
       "  <tbody>\n",
       "    <tr>\n",
       "      <th>0</th>\n",
       "      <td>\\n\\nI am sure some bashers of Pens fans are pr...</td>\n",
       "      <td>I sure bashers Pens fans pretty confused lack ...</td>\n",
       "      <td>[0.044840634, 0.042145394, -0.0068237716, 0.11...</td>\n",
       "    </tr>\n",
       "    <tr>\n",
       "      <th>1</th>\n",
       "      <td>My brother is in the market for a high-perform...</td>\n",
       "      <td>My brother market video card supports VESA loc...</td>\n",
       "      <td>[-0.055559713, -0.015373476, 0.02511609, 0.018...</td>\n",
       "    </tr>\n",
       "    <tr>\n",
       "      <th>2</th>\n",
       "      <td>\\n\\n\\n\\n\\tFinally you said what you dream abou...</td>\n",
       "      <td>Finally said dream Mediterranean That new The ...</td>\n",
       "      <td>[0.04519834, -0.0076894974, 0.1272826, 0.09746...</td>\n",
       "    </tr>\n",
       "    <tr>\n",
       "      <th>3</th>\n",
       "      <td>\\nThink!\\n\\nIt's the SCSI card doing the DMA t...</td>\n",
       "      <td>Think It SCSI card DMA transfers NOT disks The...</td>\n",
       "      <td>[0.012831859, 0.0052521536, 0.0058194674, 0.01...</td>\n",
       "    </tr>\n",
       "    <tr>\n",
       "      <th>4</th>\n",
       "      <td>1)    I have an old Jasmine drive which I cann...</td>\n",
       "      <td>I old Jasmine drive I use new system My unders...</td>\n",
       "      <td>[0.049170937, 0.0056467694, 0.04843648, 0.0792...</td>\n",
       "    </tr>\n",
       "    <tr>\n",
       "      <th>...</th>\n",
       "      <td>...</td>\n",
       "      <td>...</td>\n",
       "      <td>...</td>\n",
       "    </tr>\n",
       "    <tr>\n",
       "      <th>18841</th>\n",
       "      <td>DN&gt; From: nyeda@cnsvax.uwec.edu (David Nye)\\nD...</td>\n",
       "      <td>DN From nyeda David Nye DN A neurology DN cons...</td>\n",
       "      <td>[-0.011498247, 0.085058756, 0.00591256, 0.0744...</td>\n",
       "    </tr>\n",
       "    <tr>\n",
       "      <th>18842</th>\n",
       "      <td>\\nNot in isolated ground recepticles (usually ...</td>\n",
       "      <td>Not isolated ground recepticles usually unusua...</td>\n",
       "      <td>[0.030495537, -0.00055185956, -0.038831923, 0....</td>\n",
       "    </tr>\n",
       "    <tr>\n",
       "      <th>18843</th>\n",
       "      <td>I just installed a DX2-66 CPU in a clone mothe...</td>\n",
       "      <td>I installed CPU clone motherboard tried mounti...</td>\n",
       "      <td>[0.004587446, -0.004250663, 0.017289298, 0.091...</td>\n",
       "    </tr>\n",
       "    <tr>\n",
       "      <th>18844</th>\n",
       "      <td>\\nWouldn't this require a hyper-sphere.  In 3-...</td>\n",
       "      <td>Would require In points specifies sphere far I...</td>\n",
       "      <td>[-0.015062968, -0.004964193, 0.06576029, 0.107...</td>\n",
       "    </tr>\n",
       "    <tr>\n",
       "      <th>18845</th>\n",
       "      <td>After a tip from Gary Crum (crum@fcom.cc.utah....</td>\n",
       "      <td>After tip Gary Crum crum I got Phone Pontiac S...</td>\n",
       "      <td>[0.03502944, 0.009536974, 0.038607366, 0.04571...</td>\n",
       "    </tr>\n",
       "  </tbody>\n",
       "</table>\n",
       "<p>18846 rows × 3 columns</p>\n",
       "</div>"
      ],
      "text/plain": [
       "                                                     raw  \\\n",
       "0      \\n\\nI am sure some bashers of Pens fans are pr...   \n",
       "1      My brother is in the market for a high-perform...   \n",
       "2      \\n\\n\\n\\n\\tFinally you said what you dream abou...   \n",
       "3      \\nThink!\\n\\nIt's the SCSI card doing the DMA t...   \n",
       "4      1)    I have an old Jasmine drive which I cann...   \n",
       "...                                                  ...   \n",
       "18841  DN> From: nyeda@cnsvax.uwec.edu (David Nye)\\nD...   \n",
       "18842  \\nNot in isolated ground recepticles (usually ...   \n",
       "18843  I just installed a DX2-66 CPU in a clone mothe...   \n",
       "18844  \\nWouldn't this require a hyper-sphere.  In 3-...   \n",
       "18845  After a tip from Gary Crum (crum@fcom.cc.utah....   \n",
       "\n",
       "                                            preprocessed  \\\n",
       "0      I sure bashers Pens fans pretty confused lack ...   \n",
       "1      My brother market video card supports VESA loc...   \n",
       "2      Finally said dream Mediterranean That new The ...   \n",
       "3      Think It SCSI card DMA transfers NOT disks The...   \n",
       "4      I old Jasmine drive I use new system My unders...   \n",
       "...                                                  ...   \n",
       "18841  DN From nyeda David Nye DN A neurology DN cons...   \n",
       "18842  Not isolated ground recepticles usually unusua...   \n",
       "18843  I installed CPU clone motherboard tried mounti...   \n",
       "18844  Would require In points specifies sphere far I...   \n",
       "18845  After tip Gary Crum crum I got Phone Pontiac S...   \n",
       "\n",
       "                                               embedding  \n",
       "0      [0.044840634, 0.042145394, -0.0068237716, 0.11...  \n",
       "1      [-0.055559713, -0.015373476, 0.02511609, 0.018...  \n",
       "2      [0.04519834, -0.0076894974, 0.1272826, 0.09746...  \n",
       "3      [0.012831859, 0.0052521536, 0.0058194674, 0.01...  \n",
       "4      [0.049170937, 0.0056467694, 0.04843648, 0.0792...  \n",
       "...                                                  ...  \n",
       "18841  [-0.011498247, 0.085058756, 0.00591256, 0.0744...  \n",
       "18842  [0.030495537, -0.00055185956, -0.038831923, 0....  \n",
       "18843  [0.004587446, -0.004250663, 0.017289298, 0.091...  \n",
       "18844  [-0.015062968, -0.004964193, 0.06576029, 0.107...  \n",
       "18845  [0.03502944, 0.009536974, 0.038607366, 0.04571...  \n",
       "\n",
       "[18846 rows x 3 columns]"
      ]
     },
     "execution_count": 42,
     "metadata": {},
     "output_type": "execute_result"
    }
   ],
   "source": [
    "newsgroupsdocs_df['embedding'] = newsgroupsdocs_df['preprocessed'].apply(embedding_doc)\n",
    "newsgroupsdocs_df"
   ]
  },
  {
   "cell_type": "code",
   "execution_count": 47,
   "id": "5f1a2f07",
   "metadata": {},
   "outputs": [
    {
     "data": {
      "text/plain": [
       "array([-0.13476562, -0.02404785,  0.04418945,  0.27539062, -0.03271484,\n",
       "        0.13183594,  0.17382812, -0.00095367, -0.0625    ,  0.20996094,\n",
       "       -0.03051758, -0.3046875 , -0.10742188, -0.08203125, -0.43359375,\n",
       "        0.03637695, -0.11474609,  0.01092529, -0.34375   , -0.02929688,\n",
       "        0.30273438, -0.08203125,  0.22265625,  0.11083984, -0.14257812,\n",
       "       -0.04443359, -0.01745605,  0.01531982,  0.0018692 ,  0.23828125,\n",
       "       -0.26367188, -0.15136719,  0.13183594, -0.12792969,  0.0703125 ,\n",
       "        0.24609375,  0.17871094,  0.12353516,  0.06396484,  0.265625  ,\n",
       "       -0.12158203, -0.22558594,  0.13867188,  0.125     , -0.03588867,\n",
       "       -0.20019531, -0.08837891, -0.00234985,  0.20703125,  0.21679688,\n",
       "       -0.12695312,  0.23730469,  0.0234375 ,  0.1328125 , -0.06835938,\n",
       "       -0.09179688,  0.17089844, -0.07617188,  0.22070312,  0.03735352,\n",
       "       -0.04492188,  0.20410156, -0.12011719, -0.00543213,  0.23632812,\n",
       "       -0.28125   , -0.1484375 , -0.07373047,  0.21972656, -0.08007812,\n",
       "        0.41210938, -0.0625    ,  0.03149414, -0.03271484, -0.09912109,\n",
       "       -0.25585938, -0.14941406, -0.28710938, -0.04956055, -0.33203125,\n",
       "        0.10400391, -0.03369141,  0.24609375, -0.00848389,  0.10986328,\n",
       "       -0.00634766, -0.28125   ,  0.28515625, -0.11035156, -0.31054688,\n",
       "       -0.20898438,  0.05566406, -0.21386719, -0.40039062, -0.18359375,\n",
       "       -0.265625  , -0.0534668 , -0.02148438, -0.1171875 , -0.20117188,\n",
       "       -0.05639648, -0.11767578, -0.12109375, -0.05859375, -0.0234375 ,\n",
       "       -0.09863281,  0.35351562, -0.13476562,  0.03063965, -0.07177734,\n",
       "       -0.15527344, -0.27929688,  0.02026367,  0.26953125, -0.24121094,\n",
       "       -0.00558472, -0.01879883, -0.17382812, -0.27148438, -0.11865234,\n",
       "       -0.05981445, -0.10986328, -0.16113281, -0.10253906, -0.20605469,\n",
       "       -0.08935547,  0.10107422,  0.01074219,  0.12890625,  0.12158203,\n",
       "       -0.4453125 ,  0.1640625 , -0.08984375,  0.15917969, -0.13085938,\n",
       "        0.203125  ,  0.02282715,  0.07177734,  0.31054688,  0.00215149,\n",
       "       -0.07128906, -0.12695312,  0.15917969,  0.23242188,  0.07470703,\n",
       "       -0.06103516, -0.20507812, -0.05981445, -0.16796875,  0.12597656,\n",
       "        0.06347656, -0.19140625, -0.12353516,  0.08496094,  0.02197266,\n",
       "       -0.1484375 , -0.12597656, -0.21386719, -0.27539062, -0.08105469,\n",
       "       -0.2578125 ,  0.00241089,  0.20410156,  0.06396484, -0.17382812,\n",
       "        0.01806641,  0.11376953, -0.03393555,  0.17578125,  0.06689453,\n",
       "       -0.296875  ,  0.10449219,  0.0291748 , -0.1328125 ,  0.0213623 ,\n",
       "       -0.18847656,  0.09130859,  0.05932617,  0.109375  ,  0.30859375,\n",
       "       -0.03344727, -0.2890625 , -0.09863281, -0.11328125,  0.21972656,\n",
       "       -0.05957031,  0.05102539,  0.16210938, -0.16503906,  0.25195312,\n",
       "       -0.10839844,  0.15820312, -0.06494141, -0.09326172,  0.12792969,\n",
       "        0.38867188, -0.22851562, -0.05883789, -0.13085938,  0.02380371,\n",
       "        0.09912109, -0.24316406, -0.04394531, -0.09228516, -0.09863281,\n",
       "       -0.10888672,  0.125     , -0.07421875,  0.17871094, -0.06835938,\n",
       "       -0.1953125 ,  0.2890625 ,  0.0189209 , -0.0390625 ,  0.08349609,\n",
       "        0.06079102,  0.03540039, -0.03637695,  0.04345703,  0.14160156,\n",
       "       -0.078125  , -0.02026367, -0.10888672, -0.09765625,  0.4140625 ,\n",
       "       -0.10253906,  0.01757812,  0.19726562,  0.09375   ,  0.15234375,\n",
       "        0.27929688, -0.265625  ,  0.08007812,  0.21582031, -0.09033203,\n",
       "       -0.51171875,  0.23632812, -0.01226807, -0.13769531,  0.24023438,\n",
       "        0.16992188,  0.08251953, -0.03808594,  0.07714844, -0.01818848,\n",
       "       -0.33984375,  0.07324219,  0.09277344,  0.16210938,  0.21972656,\n",
       "       -0.00613403,  0.10302734,  0.13085938, -0.12451172,  0.296875  ,\n",
       "       -0.27734375,  0.10595703,  0.11523438,  0.03466797, -0.06689453,\n",
       "        0.10595703,  0.20117188,  0.09570312, -0.07421875,  0.13378906,\n",
       "       -0.10351562, -0.15039062, -0.04125977, -0.00056076,  0.07128906,\n",
       "        0.10498047,  0.140625  ,  0.11035156, -0.328125  ,  0.11474609,\n",
       "       -0.24121094, -0.0559082 ,  0.01721191,  0.04907227,  0.06738281,\n",
       "       -0.05981445,  0.10009766,  0.09277344,  0.02636719, -0.16113281,\n",
       "       -0.10498047, -0.09228516,  0.33789062, -0.08398438,  0.35546875,\n",
       "       -0.2109375 , -0.04125977, -0.29492188,  0.30273438,  0.18457031,\n",
       "       -0.07226562,  0.0612793 ,  0.1015625 ,  0.06689453,  0.10107422],\n",
       "      dtype=float32)"
      ]
     },
     "execution_count": 47,
     "metadata": {},
     "output_type": "execute_result"
    }
   ],
   "source": [
    "query = 'chicken'\n",
    "query_emb = embedding_doc(query)\n",
    "query_emb"
   ]
  },
  {
   "cell_type": "markdown",
   "id": "84f29c9d35285942",
   "metadata": {},
   "source": [
    "## 2. Medidas de Similitud\n",
    "\n",
    "El principio básico de una base vectorial es buscar elementos cuyo vector esté \"cerca\" del vector de consulta. Existen varias formas de medir esta cercanía:\n",
    "\n",
    "### a. Distancia Euclidiana (L2)\n",
    "\n",
    "$\\[ \\text{dist}(⇡\\vec{q}, \\vec{d}) = \\sqrt{\\sum_{i=1}^n (q_i - d_i)^2} \\]$\n",
    "\n",
    "Utilizada cuando los vectores no están normalizados. Implementada por defecto en `FAISS` con `IndexFlatL2`.\n",
    "\n",
    "### b. Similitud Coseno\n",
    "\n",
    "$\\[ \\cos(\\theta) = \\frac{\\vec{q} \\cdot \\vec{d}}{\\|\\vec{q}\\| \\cdot \\|\\vec{d}\\|} \\]$\n",
    "\n",
    "Esta métrica es ideal cuando se desea medir ángulos (dirección) en lugar de magnitudes. Se usa en `ChromaDB` y también puede simularse en FAISS si los vectores están normalizados.\n",
    "\n",
    "Existe una relación entre ambas (cuando los vectores están normalizados):\n",
    "$\\[ \\text{dist}_{\\text{L2}}^2 = 2 - 2 \\cdot \\cos(\\theta) \\]$"
   ]
  },
  {
   "cell_type": "code",
   "execution_count": null,
   "id": "638ee3b2",
   "metadata": {},
   "outputs": [
    {
     "ename": "ValueError",
     "evalue": "Input contains NaN.",
     "output_type": "error",
     "traceback": [
      "\u001b[31m---------------------------------------------------------------------------\u001b[39m",
      "\u001b[31mValueError\u001b[39m                                Traceback (most recent call last)",
      "\u001b[36mCell\u001b[39m\u001b[36m \u001b[39m\u001b[32mIn[52]\u001b[39m\u001b[32m, line 3\u001b[39m\n\u001b[32m      1\u001b[39m \u001b[38;5;28;01mfrom\u001b[39;00m\u001b[38;5;250m \u001b[39m\u001b[34;01msklearn\u001b[39;00m\u001b[34;01m.\u001b[39;00m\u001b[34;01mmetrics\u001b[39;00m\u001b[34;01m.\u001b[39;00m\u001b[34;01mpairwise\u001b[39;00m\u001b[38;5;250m \u001b[39m\u001b[38;5;28;01mimport\u001b[39;00m cosine_similarity\n\u001b[32m----> \u001b[39m\u001b[32m3\u001b[39m sim = \u001b[43m[\u001b[49m\n\u001b[32m      4\u001b[39m \u001b[43m    \u001b[49m\u001b[43mcosine_similarity\u001b[49m\u001b[43m(\u001b[49m\u001b[43m \u001b[49m\u001b[43mX\u001b[49m\u001b[43m=\u001b[49m\u001b[43mquery_emb\u001b[49m\u001b[43m.\u001b[49m\u001b[43mreshape\u001b[49m\u001b[43m(\u001b[49m\u001b[32;43m1\u001b[39;49m\u001b[43m,\u001b[49m\u001b[43m \u001b[49m\u001b[43m-\u001b[49m\u001b[32;43m1\u001b[39;49m\u001b[43m)\u001b[49m\u001b[43m,\u001b[49m\u001b[43m \u001b[49m\u001b[43mY\u001b[49m\u001b[43m=\u001b[49m\u001b[43memb\u001b[49m\u001b[43m.\u001b[49m\u001b[43mreshape\u001b[49m\u001b[43m(\u001b[49m\u001b[32;43m1\u001b[39;49m\u001b[43m,\u001b[49m\u001b[43m \u001b[49m\u001b[43m-\u001b[49m\u001b[32;43m1\u001b[39;49m\u001b[43m)\u001b[49m\u001b[43m)\u001b[49m\u001b[43m[\u001b[49m\u001b[32;43m0\u001b[39;49m\u001b[43m]\u001b[49m\u001b[43m[\u001b[49m\u001b[32;43m0\u001b[39;49m\u001b[43m]\u001b[49m\n\u001b[32m      5\u001b[39m \u001b[43m    \u001b[49m\u001b[38;5;28;43;01mfor\u001b[39;49;00m\u001b[43m \u001b[49m\u001b[43memb\u001b[49m\u001b[43m \u001b[49m\u001b[38;5;129;43;01min\u001b[39;49;00m\u001b[43m \u001b[49m\u001b[43mnewsgroupsdocs_df\u001b[49m\u001b[43m[\u001b[49m\u001b[33;43m'\u001b[39;49m\u001b[33;43membedding\u001b[39;49m\u001b[33;43m'\u001b[39;49m\u001b[43m]\u001b[49m\n\u001b[32m      6\u001b[39m \u001b[43m]\u001b[49m\n\u001b[32m      7\u001b[39m \u001b[38;5;28mprint\u001b[39m(sim)\n",
      "\u001b[36mCell\u001b[39m\u001b[36m \u001b[39m\u001b[32mIn[52]\u001b[39m\u001b[32m, line 4\u001b[39m, in \u001b[36m<listcomp>\u001b[39m\u001b[34m(.0)\u001b[39m\n\u001b[32m      1\u001b[39m \u001b[38;5;28;01mfrom\u001b[39;00m\u001b[38;5;250m \u001b[39m\u001b[34;01msklearn\u001b[39;00m\u001b[34;01m.\u001b[39;00m\u001b[34;01mmetrics\u001b[39;00m\u001b[34;01m.\u001b[39;00m\u001b[34;01mpairwise\u001b[39;00m\u001b[38;5;250m \u001b[39m\u001b[38;5;28;01mimport\u001b[39;00m cosine_similarity\n\u001b[32m      3\u001b[39m sim = [\n\u001b[32m----> \u001b[39m\u001b[32m4\u001b[39m     \u001b[43mcosine_similarity\u001b[49m\u001b[43m(\u001b[49m\u001b[43m \u001b[49m\u001b[43mX\u001b[49m\u001b[43m=\u001b[49m\u001b[43mquery_emb\u001b[49m\u001b[43m.\u001b[49m\u001b[43mreshape\u001b[49m\u001b[43m(\u001b[49m\u001b[32;43m1\u001b[39;49m\u001b[43m,\u001b[49m\u001b[43m \u001b[49m\u001b[43m-\u001b[49m\u001b[32;43m1\u001b[39;49m\u001b[43m)\u001b[49m\u001b[43m,\u001b[49m\u001b[43m \u001b[49m\u001b[43mY\u001b[49m\u001b[43m=\u001b[49m\u001b[43memb\u001b[49m\u001b[43m.\u001b[49m\u001b[43mreshape\u001b[49m\u001b[43m(\u001b[49m\u001b[32;43m1\u001b[39;49m\u001b[43m,\u001b[49m\u001b[43m \u001b[49m\u001b[43m-\u001b[49m\u001b[32;43m1\u001b[39;49m\u001b[43m)\u001b[49m\u001b[43m)\u001b[49m[\u001b[32m0\u001b[39m][\u001b[32m0\u001b[39m]\n\u001b[32m      5\u001b[39m     \u001b[38;5;28;01mfor\u001b[39;00m emb \u001b[38;5;129;01min\u001b[39;00m newsgroupsdocs_df[\u001b[33m'\u001b[39m\u001b[33membedding\u001b[39m\u001b[33m'\u001b[39m]\n\u001b[32m      6\u001b[39m ]\n\u001b[32m      7\u001b[39m \u001b[38;5;28mprint\u001b[39m(sim)\n",
      "\u001b[36mFile \u001b[39m\u001b[32m~\\AppData\\Local\\Packages\\PythonSoftwareFoundation.Python.3.11_qbz5n2kfra8p0\\LocalCache\\local-packages\\Python311\\site-packages\\sklearn\\utils\\_param_validation.py:216\u001b[39m, in \u001b[36mvalidate_params.<locals>.decorator.<locals>.wrapper\u001b[39m\u001b[34m(*args, **kwargs)\u001b[39m\n\u001b[32m    210\u001b[39m \u001b[38;5;28;01mtry\u001b[39;00m:\n\u001b[32m    211\u001b[39m     \u001b[38;5;28;01mwith\u001b[39;00m config_context(\n\u001b[32m    212\u001b[39m         skip_parameter_validation=(\n\u001b[32m    213\u001b[39m             prefer_skip_nested_validation \u001b[38;5;129;01mor\u001b[39;00m global_skip_validation\n\u001b[32m    214\u001b[39m         )\n\u001b[32m    215\u001b[39m     ):\n\u001b[32m--> \u001b[39m\u001b[32m216\u001b[39m         \u001b[38;5;28;01mreturn\u001b[39;00m \u001b[43mfunc\u001b[49m\u001b[43m(\u001b[49m\u001b[43m*\u001b[49m\u001b[43margs\u001b[49m\u001b[43m,\u001b[49m\u001b[43m \u001b[49m\u001b[43m*\u001b[49m\u001b[43m*\u001b[49m\u001b[43mkwargs\u001b[49m\u001b[43m)\u001b[49m\n\u001b[32m    217\u001b[39m \u001b[38;5;28;01mexcept\u001b[39;00m InvalidParameterError \u001b[38;5;28;01mas\u001b[39;00m e:\n\u001b[32m    218\u001b[39m     \u001b[38;5;66;03m# When the function is just a wrapper around an estimator, we allow\u001b[39;00m\n\u001b[32m    219\u001b[39m     \u001b[38;5;66;03m# the function to delegate validation to the estimator, but we replace\u001b[39;00m\n\u001b[32m    220\u001b[39m     \u001b[38;5;66;03m# the name of the estimator by the name of the function in the error\u001b[39;00m\n\u001b[32m    221\u001b[39m     \u001b[38;5;66;03m# message to avoid confusion.\u001b[39;00m\n\u001b[32m    222\u001b[39m     msg = re.sub(\n\u001b[32m    223\u001b[39m         \u001b[33mr\u001b[39m\u001b[33m\"\u001b[39m\u001b[33mparameter of \u001b[39m\u001b[33m\\\u001b[39m\u001b[33mw+ must be\u001b[39m\u001b[33m\"\u001b[39m,\n\u001b[32m    224\u001b[39m         \u001b[33mf\u001b[39m\u001b[33m\"\u001b[39m\u001b[33mparameter of \u001b[39m\u001b[38;5;132;01m{\u001b[39;00mfunc.\u001b[34m__qualname__\u001b[39m\u001b[38;5;132;01m}\u001b[39;00m\u001b[33m must be\u001b[39m\u001b[33m\"\u001b[39m,\n\u001b[32m    225\u001b[39m         \u001b[38;5;28mstr\u001b[39m(e),\n\u001b[32m    226\u001b[39m     )\n",
      "\u001b[36mFile \u001b[39m\u001b[32m~\\AppData\\Local\\Packages\\PythonSoftwareFoundation.Python.3.11_qbz5n2kfra8p0\\LocalCache\\local-packages\\Python311\\site-packages\\sklearn\\metrics\\pairwise.py:1741\u001b[39m, in \u001b[36mcosine_similarity\u001b[39m\u001b[34m(X, Y, dense_output)\u001b[39m\n\u001b[32m   1695\u001b[39m \u001b[38;5;250m\u001b[39m\u001b[33;03m\"\"\"Compute cosine similarity between samples in X and Y.\u001b[39;00m\n\u001b[32m   1696\u001b[39m \n\u001b[32m   1697\u001b[39m \u001b[33;03mCosine similarity, or the cosine kernel, computes similarity as the\u001b[39;00m\n\u001b[32m   (...)\u001b[39m\u001b[32m   1737\u001b[39m \u001b[33;03m       [0.57..., 0.81...]])\u001b[39;00m\n\u001b[32m   1738\u001b[39m \u001b[33;03m\"\"\"\u001b[39;00m\n\u001b[32m   1739\u001b[39m \u001b[38;5;66;03m# to avoid recursive import\u001b[39;00m\n\u001b[32m-> \u001b[39m\u001b[32m1741\u001b[39m X, Y = \u001b[43mcheck_pairwise_arrays\u001b[49m\u001b[43m(\u001b[49m\u001b[43mX\u001b[49m\u001b[43m,\u001b[49m\u001b[43m \u001b[49m\u001b[43mY\u001b[49m\u001b[43m)\u001b[49m\n\u001b[32m   1743\u001b[39m X_normalized = normalize(X, copy=\u001b[38;5;28;01mTrue\u001b[39;00m)\n\u001b[32m   1744\u001b[39m \u001b[38;5;28;01mif\u001b[39;00m X \u001b[38;5;129;01mis\u001b[39;00m Y:\n",
      "\u001b[36mFile \u001b[39m\u001b[32m~\\AppData\\Local\\Packages\\PythonSoftwareFoundation.Python.3.11_qbz5n2kfra8p0\\LocalCache\\local-packages\\Python311\\site-packages\\sklearn\\metrics\\pairwise.py:209\u001b[39m, in \u001b[36mcheck_pairwise_arrays\u001b[39m\u001b[34m(X, Y, precomputed, dtype, accept_sparse, force_all_finite, ensure_all_finite, ensure_2d, copy)\u001b[39m\n\u001b[32m    199\u001b[39m \u001b[38;5;28;01melse\u001b[39;00m:\n\u001b[32m    200\u001b[39m     X = check_array(\n\u001b[32m    201\u001b[39m         X,\n\u001b[32m    202\u001b[39m         accept_sparse=accept_sparse,\n\u001b[32m   (...)\u001b[39m\u001b[32m    207\u001b[39m         ensure_2d=ensure_2d,\n\u001b[32m    208\u001b[39m     )\n\u001b[32m--> \u001b[39m\u001b[32m209\u001b[39m     Y = \u001b[43mcheck_array\u001b[49m\u001b[43m(\u001b[49m\n\u001b[32m    210\u001b[39m \u001b[43m        \u001b[49m\u001b[43mY\u001b[49m\u001b[43m,\u001b[49m\n\u001b[32m    211\u001b[39m \u001b[43m        \u001b[49m\u001b[43maccept_sparse\u001b[49m\u001b[43m=\u001b[49m\u001b[43maccept_sparse\u001b[49m\u001b[43m,\u001b[49m\n\u001b[32m    212\u001b[39m \u001b[43m        \u001b[49m\u001b[43mdtype\u001b[49m\u001b[43m=\u001b[49m\u001b[43mdtype\u001b[49m\u001b[43m,\u001b[49m\n\u001b[32m    213\u001b[39m \u001b[43m        \u001b[49m\u001b[43mcopy\u001b[49m\u001b[43m=\u001b[49m\u001b[43mcopy\u001b[49m\u001b[43m,\u001b[49m\n\u001b[32m    214\u001b[39m \u001b[43m        \u001b[49m\u001b[43mensure_all_finite\u001b[49m\u001b[43m=\u001b[49m\u001b[43mensure_all_finite\u001b[49m\u001b[43m,\u001b[49m\n\u001b[32m    215\u001b[39m \u001b[43m        \u001b[49m\u001b[43mestimator\u001b[49m\u001b[43m=\u001b[49m\u001b[43mestimator\u001b[49m\u001b[43m,\u001b[49m\n\u001b[32m    216\u001b[39m \u001b[43m        \u001b[49m\u001b[43mensure_2d\u001b[49m\u001b[43m=\u001b[49m\u001b[43mensure_2d\u001b[49m\u001b[43m,\u001b[49m\n\u001b[32m    217\u001b[39m \u001b[43m    \u001b[49m\u001b[43m)\u001b[49m\n\u001b[32m    219\u001b[39m \u001b[38;5;28;01mif\u001b[39;00m precomputed:\n\u001b[32m    220\u001b[39m     \u001b[38;5;28;01mif\u001b[39;00m X.shape[\u001b[32m1\u001b[39m] != Y.shape[\u001b[32m0\u001b[39m]:\n",
      "\u001b[36mFile \u001b[39m\u001b[32m~\\AppData\\Local\\Packages\\PythonSoftwareFoundation.Python.3.11_qbz5n2kfra8p0\\LocalCache\\local-packages\\Python311\\site-packages\\sklearn\\utils\\validation.py:1107\u001b[39m, in \u001b[36mcheck_array\u001b[39m\u001b[34m(array, accept_sparse, accept_large_sparse, dtype, order, copy, force_writeable, force_all_finite, ensure_all_finite, ensure_non_negative, ensure_2d, allow_nd, ensure_min_samples, ensure_min_features, estimator, input_name)\u001b[39m\n\u001b[32m   1101\u001b[39m     \u001b[38;5;28;01mraise\u001b[39;00m \u001b[38;5;167;01mValueError\u001b[39;00m(\n\u001b[32m   1102\u001b[39m         \u001b[33m\"\u001b[39m\u001b[33mFound array with dim \u001b[39m\u001b[38;5;132;01m%d\u001b[39;00m\u001b[33m. \u001b[39m\u001b[38;5;132;01m%s\u001b[39;00m\u001b[33m expected <= 2.\u001b[39m\u001b[33m\"\u001b[39m\n\u001b[32m   1103\u001b[39m         % (array.ndim, estimator_name)\n\u001b[32m   1104\u001b[39m     )\n\u001b[32m   1106\u001b[39m \u001b[38;5;28;01mif\u001b[39;00m ensure_all_finite:\n\u001b[32m-> \u001b[39m\u001b[32m1107\u001b[39m     \u001b[43m_assert_all_finite\u001b[49m\u001b[43m(\u001b[49m\n\u001b[32m   1108\u001b[39m \u001b[43m        \u001b[49m\u001b[43marray\u001b[49m\u001b[43m,\u001b[49m\n\u001b[32m   1109\u001b[39m \u001b[43m        \u001b[49m\u001b[43minput_name\u001b[49m\u001b[43m=\u001b[49m\u001b[43minput_name\u001b[49m\u001b[43m,\u001b[49m\n\u001b[32m   1110\u001b[39m \u001b[43m        \u001b[49m\u001b[43mestimator_name\u001b[49m\u001b[43m=\u001b[49m\u001b[43mestimator_name\u001b[49m\u001b[43m,\u001b[49m\n\u001b[32m   1111\u001b[39m \u001b[43m        \u001b[49m\u001b[43mallow_nan\u001b[49m\u001b[43m=\u001b[49m\u001b[43mensure_all_finite\u001b[49m\u001b[43m \u001b[49m\u001b[43m==\u001b[49m\u001b[43m \u001b[49m\u001b[33;43m\"\u001b[39;49m\u001b[33;43mallow-nan\u001b[39;49m\u001b[33;43m\"\u001b[39;49m\u001b[43m,\u001b[49m\n\u001b[32m   1112\u001b[39m \u001b[43m    \u001b[49m\u001b[43m)\u001b[49m\n\u001b[32m   1114\u001b[39m \u001b[38;5;28;01mif\u001b[39;00m copy:\n\u001b[32m   1115\u001b[39m     \u001b[38;5;28;01mif\u001b[39;00m _is_numpy_namespace(xp):\n\u001b[32m   1116\u001b[39m         \u001b[38;5;66;03m# only make a copy if `array` and `array_orig` may share memory`\u001b[39;00m\n",
      "\u001b[36mFile \u001b[39m\u001b[32m~\\AppData\\Local\\Packages\\PythonSoftwareFoundation.Python.3.11_qbz5n2kfra8p0\\LocalCache\\local-packages\\Python311\\site-packages\\sklearn\\utils\\validation.py:120\u001b[39m, in \u001b[36m_assert_all_finite\u001b[39m\u001b[34m(X, allow_nan, msg_dtype, estimator_name, input_name)\u001b[39m\n\u001b[32m    117\u001b[39m \u001b[38;5;28;01mif\u001b[39;00m first_pass_isfinite:\n\u001b[32m    118\u001b[39m     \u001b[38;5;28;01mreturn\u001b[39;00m\n\u001b[32m--> \u001b[39m\u001b[32m120\u001b[39m \u001b[43m_assert_all_finite_element_wise\u001b[49m\u001b[43m(\u001b[49m\n\u001b[32m    121\u001b[39m \u001b[43m    \u001b[49m\u001b[43mX\u001b[49m\u001b[43m,\u001b[49m\n\u001b[32m    122\u001b[39m \u001b[43m    \u001b[49m\u001b[43mxp\u001b[49m\u001b[43m=\u001b[49m\u001b[43mxp\u001b[49m\u001b[43m,\u001b[49m\n\u001b[32m    123\u001b[39m \u001b[43m    \u001b[49m\u001b[43mallow_nan\u001b[49m\u001b[43m=\u001b[49m\u001b[43mallow_nan\u001b[49m\u001b[43m,\u001b[49m\n\u001b[32m    124\u001b[39m \u001b[43m    \u001b[49m\u001b[43mmsg_dtype\u001b[49m\u001b[43m=\u001b[49m\u001b[43mmsg_dtype\u001b[49m\u001b[43m,\u001b[49m\n\u001b[32m    125\u001b[39m \u001b[43m    \u001b[49m\u001b[43mestimator_name\u001b[49m\u001b[43m=\u001b[49m\u001b[43mestimator_name\u001b[49m\u001b[43m,\u001b[49m\n\u001b[32m    126\u001b[39m \u001b[43m    \u001b[49m\u001b[43minput_name\u001b[49m\u001b[43m=\u001b[49m\u001b[43minput_name\u001b[49m\u001b[43m,\u001b[49m\n\u001b[32m    127\u001b[39m \u001b[43m\u001b[49m\u001b[43m)\u001b[49m\n",
      "\u001b[36mFile \u001b[39m\u001b[32m~\\AppData\\Local\\Packages\\PythonSoftwareFoundation.Python.3.11_qbz5n2kfra8p0\\LocalCache\\local-packages\\Python311\\site-packages\\sklearn\\utils\\validation.py:169\u001b[39m, in \u001b[36m_assert_all_finite_element_wise\u001b[39m\u001b[34m(X, xp, allow_nan, msg_dtype, estimator_name, input_name)\u001b[39m\n\u001b[32m    152\u001b[39m \u001b[38;5;28;01mif\u001b[39;00m estimator_name \u001b[38;5;129;01mand\u001b[39;00m input_name == \u001b[33m\"\u001b[39m\u001b[33mX\u001b[39m\u001b[33m\"\u001b[39m \u001b[38;5;129;01mand\u001b[39;00m has_nan_error:\n\u001b[32m    153\u001b[39m     \u001b[38;5;66;03m# Improve the error message on how to handle missing values in\u001b[39;00m\n\u001b[32m    154\u001b[39m     \u001b[38;5;66;03m# scikit-learn.\u001b[39;00m\n\u001b[32m    155\u001b[39m     msg_err += (\n\u001b[32m    156\u001b[39m         \u001b[33mf\u001b[39m\u001b[33m\"\u001b[39m\u001b[38;5;130;01m\\n\u001b[39;00m\u001b[38;5;132;01m{\u001b[39;00mestimator_name\u001b[38;5;132;01m}\u001b[39;00m\u001b[33m does not accept missing values\u001b[39m\u001b[33m\"\u001b[39m\n\u001b[32m    157\u001b[39m         \u001b[33m\"\u001b[39m\u001b[33m encoded as NaN natively. For supervised learning, you might want\u001b[39m\u001b[33m\"\u001b[39m\n\u001b[32m   (...)\u001b[39m\u001b[32m    167\u001b[39m         \u001b[33m\"\u001b[39m\u001b[33m#estimators-that-handle-nan-values\u001b[39m\u001b[33m\"\u001b[39m\n\u001b[32m    168\u001b[39m     )\n\u001b[32m--> \u001b[39m\u001b[32m169\u001b[39m \u001b[38;5;28;01mraise\u001b[39;00m \u001b[38;5;167;01mValueError\u001b[39;00m(msg_err)\n",
      "\u001b[31mValueError\u001b[39m: Input contains NaN."
     ]
    }
   ],
   "source": [
    "from sklearn.metrics.pairwise import cosine_similarity\n",
    "\n",
    "sim = [\n",
    "    cosine_similarity( X=query_emb.reshape(1, -1), Y=emb.reshape(1, -1))[0][0]\n",
    "    for emb in newsgroupsdocs_df['embedding']\n",
    "]\n",
    "print(sim)"
   ]
  },
  {
   "cell_type": "code",
   "execution_count": null,
   "id": "acdc0580901174e2",
   "metadata": {
    "ExecuteTime": {
     "end_time": "2025-06-25T13:24:16.437219Z",
     "start_time": "2025-06-25T13:24:16.424202Z"
    }
   },
   "outputs": [
    {
     "name": "stdout",
     "output_type": "stream",
     "text": [
      "Distancia Euclidiana a doc1: 0.2449489742783178\n",
      "Distancia Euclidiana a doc2: 0.24494897427831785\n",
      "Similitud coseno con doc1: 0.8951435925492909\n",
      "Similitud coseno con doc2: 0.8846153846153845\n"
     ]
    }
   ],
   "source": [
    "from numpy.linalg import norm\n",
    "\n",
    "dist1 = norm(query - doc1)\n",
    "dist2 = norm(query - doc2)\n",
    "\n",
    "print(\"Distancia Euclidiana a doc1:\", dist1)\n",
    "print(\"Distancia Euclidiana a doc2:\", dist2)\n",
    "\n",
    "def cosine_similarity(a, b):\n",
    "    return np.dot(a, b) / (norm(a) * norm(b))\n",
    "\n",
    "sim1 = cosine_similarity(query, doc1)\n",
    "sim2 = cosine_similarity(query, doc2)\n",
    "\n",
    "print(\"Similitud coseno con doc1:\", sim1)\n",
    "print(\"Similitud coseno con doc2:\", sim2)"
   ]
  },
  {
   "cell_type": "markdown",
   "id": "1d52d25bf0be142",
   "metadata": {},
   "source": [
    "## 3. Normalización de Vectores\n",
    "\n",
    "Muchos sistemas normalizan los vectores para que su norma sea 1:\n",
    "\n",
    "$\\[ \\hat{\\vec{v}} = \\frac{\\vec{v}}{\\|\\vec{v}\\|} \\]$\n",
    "\n",
    "Esto transforma la distancia Euclidiana en una función directa de la similitud coseno, facilitando búsquedas eficientes y comparables."
   ]
  },
  {
   "cell_type": "code",
   "execution_count": null,
   "id": "bc8af7ab6b021307",
   "metadata": {
    "ExecuteTime": {
     "end_time": "2025-06-25T13:24:23.682148Z",
     "start_time": "2025-06-25T13:24:23.662256Z"
    }
   },
   "outputs": [
    {
     "name": "stdout",
     "output_type": "stream",
     "text": [
      "Vector normalizado q: [0.19611614 0.58834841 0.78446454]\n",
      "Similitud coseno post-normalización (dot): 0.895143592549291 0.8846153846153845\n",
      "2 - 2cos(theta): 0.20971281490141802\n",
      "Distancia euclidiana al cuadrado: 0.20971281490141774\n"
     ]
    }
   ],
   "source": [
    "def normalize(v):\n",
    "    return v / norm(v)\n",
    "\n",
    "q_norm = normalize(query)\n",
    "d1_norm = normalize(doc1)\n",
    "d2_norm = normalize(doc2)\n",
    "\n",
    "print(\"Vector normalizado q:\", q_norm)\n",
    "print(\"Similitud coseno post-normalización (dot):\", np.dot(q_norm, d1_norm), np.dot(q_norm, d2_norm))\n",
    "\n",
    "# Relación teórica: dist² = 2 - 2cos(θ)\n",
    "dot = np.dot(q_norm, d1_norm)\n",
    "euclidean_sq = norm(q_norm - d1_norm)**2\n",
    "print(\"2 - 2cos(theta):\", 2 - 2 * dot)\n",
    "print(\"Distancia euclidiana al cuadrado:\", euclidean_sq)"
   ]
  },
  {
   "cell_type": "markdown",
   "id": "ed5b08d9bbda13ed",
   "metadata": {},
   "source": [
    "## 4. Indexación y Aceleración\n",
    "\n",
    "Buscar en millones de vectores directamente es costoso $(\\( O(n \\cdot d) \\))$. Se usan estructuras aproximadas para acelerar:\n",
    "\n",
    "### a. IVF (Inverted File Index)\n",
    "- Aplica clustering (K-means) a los vectores.\n",
    "- Durante la búsqueda, se consulta solo un subconjunto de clústeres.\n",
    "\n",
    "### b. HNSW (Hierarchical Navigable Small World)\n",
    "- Construye un grafo jerárquico de vecinos más cercanos.\n",
    "- Permite búsquedas logarítmicas eficientes."
   ]
  },
  {
   "cell_type": "code",
   "execution_count": null,
   "id": "b6f06db7b3e286e2",
   "metadata": {},
   "outputs": [],
   "source": []
  }
 ],
 "metadata": {
  "kernelspec": {
   "display_name": "Python 3",
   "language": "python",
   "name": "python3"
  },
  "language_info": {
   "codemirror_mode": {
    "name": "ipython",
    "version": 3
   },
   "file_extension": ".py",
   "mimetype": "text/x-python",
   "name": "python",
   "nbconvert_exporter": "python",
   "pygments_lexer": "ipython3",
   "version": "3.11.9"
  }
 },
 "nbformat": 4,
 "nbformat_minor": 5
}
