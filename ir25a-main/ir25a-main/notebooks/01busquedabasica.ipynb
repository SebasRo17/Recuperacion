{
 "cells": [
  {
   "cell_type": "markdown",
   "id": "20980d198e5f991c",
   "metadata": {},
   "source": [
    "# Ejercicio 1: Introducción a Recuperación de Información\n",
    "\n",
    "## Objetivo de la práctica\n",
    "- Entender el problema de **buscar información** en colecciones de texto.\n",
    "- Comprender por qué se necesita un **índice invertido** en recuperación de información.\n",
    "- Programar una primera solución manual y luego optimizarla con un índice.\n",
    "- Evaluar la mejora en tiempos de búsqueda cuando usamos estructuras adecuadas."
   ]
  },
  {
   "cell_type": "markdown",
   "id": "175182ac2f1f542c",
   "metadata": {},
   "source": [
    "## Parte 1: Búsqueda lineal en documentos\n",
    "\n",
    "### Actividad\n",
    "1. Se te proporcionará un conjunto de documentos de texto.\n",
    "2. Escribe una función que:\n",
    "   - Lea todos los documentos.\n",
    "   - Busque una palabra ingresada por el usuario.\n",
    "   - Muestre en qué documentos aparece la palabra."
   ]
  },
  {
   "cell_type": "code",
   "execution_count": null,
   "id": "initial_id",
   "metadata": {
    "collapsed": true
   },
   "outputs": [
    {
     "name": "stdout",
     "output_type": "stream",
     "text": [
      "La palabra está en: ../data/01_corpus_turismo.txt\n",
      "La palabra está en: ../data/01_corpus_turismo_500.txt\n"
     ]
    }
   ],
   "source": [
    "archivos = ['../data/01_corpus_turismo.txt', '../data/01_corpus_turismo_500.txt']\n",
    "\n",
    "palabra = input(\"Escribe la palabra que quieres buscar: \").lower()\n",
    "\n",
    "# Revisar en qué archivos aparece la palabra\n",
    "for archivo in archivos:\n",
    "    try:\n",
    "        with open(archivo, 'r', encoding='utf-8') as f:\n",
    "            contenido = f.read().lower()\n",
    "            if palabra in contenido:\n",
    "                print(f\"La palabra está en: {archivo}\")\n",
    "    except FileNotFoundError:\n",
    "        print(f\"No se encontró el archivo: {archivo}\")"
   ]
  },
  {
   "cell_type": "markdown",
   "id": "57c9797b0bf7f4bb",
   "metadata": {},
   "source": [
    "## Parte 2: Construcción de un índice invertido\n",
    "\n",
    "### Actividad\n",
    "1. Escribe un programa que:\n",
    "   - Recorra todos los documentos.\n",
    "   - Construya un **índice invertido**, es decir, un diccionario donde:\n",
    "     - Cada palabra clave apunta a una lista de documentos donde aparece.\n",
    "\n",
    "2. Escribe una nueva función de búsqueda que:\n",
    "   - Consulte directamente el índice para encontrar los documentos relevantes.\n",
    "   - Sea mucho más rápida que la búsqueda lineal."
   ]
  },
  {
   "cell_type": "code",
   "execution_count": 2,
   "id": "34e7a4522b06d969",
   "metadata": {},
   "outputs": [
    {
     "name": "stdout",
     "output_type": "stream",
     "text": [
      "La palabra aparece en los documentos:\n",
      "../data/01_corpus_turismo.txt\n",
      "../data/01_corpus_turismo_500.txt\n"
     ]
    }
   ],
   "source": [
    "import os\n",
    "import re\n",
    "from collections import defaultdict\n",
    "\n",
    "archivos = ['../data/01_corpus_turismo.txt', '../data/01_corpus_turismo_500.txt']\n",
    "\n",
    "# Crear el índice invertido\n",
    "indice_invertido = defaultdict(set)\n",
    "\n",
    "for archivo in archivos:\n",
    "    if os.path.exists(archivo):\n",
    "        with open(archivo, 'r', encoding='utf-8') as f:\n",
    "            texto = f.read().lower()\n",
    "            palabras = re.findall(r'\\b\\w+\\b', texto)\n",
    "            for palabra in palabras:\n",
    "                indice_invertido[palabra].add(archivo)\n",
    "\n",
    "palabra = input(\"Ingresa la palabra a buscar: \").lower()\n",
    "\n",
    "# Buscar en el índice\n",
    "if palabra in indice_invertido:\n",
    "    print(\"La palabra aparece en los documentos:\")\n",
    "    for doc in indice_invertido[palabra]:\n",
    "        print(doc)\n",
    "else:\n",
    "    print(\"La palabra no se encontró en ninguno de los documentos.\")\n"
   ]
  },
  {
   "cell_type": "markdown",
   "id": "3f311d0944a2f98d",
   "metadata": {},
   "source": [
    "## Parte 3: Evaluación de tiempos de búsqueda\n",
    "### Actividad\n",
    "\n",
    "1. Realiza la búsqueda de varias palabras usando:\n",
    "      -  Corpus pequeño: 16 documentos (turismo en Ecuador).\n",
    "      -  Corpus grande: 500 documentos (versión ampliada).\n",
    "2. Mide el tiempo de ejecución:\n",
    "      -  Para búsqueda lineal.\n",
    "      -  Para búsqueda usando índice invertido.\n",
    "      -  Grafica o presenta los resultados en una tabla comparativa.\n",
    "\n",
    "### Ejemplo de palabras para buscar\n",
    "- quito\n",
    "- montañita\n",
    "- feriado\n",
    "- playas\n",
    "- aventura\n",
    "- galápagos"
   ]
  },
  {
   "cell_type": "code",
   "execution_count": null,
   "id": "15211fcaadfeb175",
   "metadata": {},
   "outputs": [
    {
     "name": "stdout",
     "output_type": "stream",
     "text": [
      "\n",
      "Tabla Comparativa de Tiempos de Búsqueda:\n",
      "\n",
      "Palabra                Lineal (s)           Índice (s)\n",
      "------------------------------------------------------------\n",
      "quito                    0.000284             0.000004\n",
      "montañita                0.000181             0.000002\n",
      "feriado                  0.000169             0.000002\n",
      "playas                   0.000161             0.000001\n",
      "aventura                 0.000177             0.000001\n",
      "galápagos                0.000174             0.000001\n"
     ]
    }
   ],
   "source": [
    "import os\n",
    "import re\n",
    "import time\n",
    "from collections import defaultdict\n",
    "\n",
    "archivos = ['../data/01_corpus_turismo.txt', '../data/01_corpus_turismo_500.txt']\n",
    "\n",
    "indice_invertido = defaultdict(set)\n",
    "\n",
    "for archivo in archivos:\n",
    "    if os.path.exists(archivo):\n",
    "        with open(archivo, 'r', encoding='utf-8') as f:\n",
    "            texto = f.read().lower()\n",
    "            palabras = re.findall(r'\\b\\w+\\b', texto)\n",
    "            for palabra in palabras:\n",
    "                indice_invertido[palabra].add(archivo)\n",
    "\n",
    "palabras_a_buscar = ['quito', 'montañita', 'feriado', 'playas', 'aventura', 'galápagos']\n",
    "resultados_tiempos = []\n",
    "\n",
    "for palabra in palabras_a_buscar:\n",
    "    palabra = palabra.lower()\n",
    "\n",
    "    # Medir tiempo búsqueda lineal\n",
    "    inicio1 = time.perf_counter()\n",
    "    for archivo in archivos:\n",
    "        if os.path.exists(archivo):\n",
    "            with open(archivo, 'r', encoding='utf-8') as f:\n",
    "                contenido = f.read().lower()\n",
    "                if palabra in contenido:\n",
    "                    break\n",
    "    fin1 = time.perf_counter()\n",
    "    tiempo_lineal = fin1 - inicio1\n",
    "\n",
    "    # Medir tiempo búsqueda con índice\n",
    "    inicio2 = time.perf_counter()\n",
    "    _ = list(indice_invertido.get(palabra, []))\n",
    "    fin2 = time.perf_counter()\n",
    "    tiempo_indice = fin2 - inicio2\n",
    "\n",
    "    resultados_tiempos.append((palabra, tiempo_lineal, tiempo_indice))\n",
    "\n",
    "print(\"\\nTabla Comparativa de Tiempos de Búsqueda:\\n\")\n",
    "print(\"{:<12} {:>20} {:>20}\".format(\"Palabra\", \"Lineal (s)\", \"Índice (s)\"))\n",
    "print(\"-\" * 60)\n",
    "for palabra, t_lineal, t_indice in resultados_tiempos:\n",
    "    print(\"{:<12} {:>20.6f} {:>20.6f}\".format(palabra, t_lineal, t_indice))\n"
   ]
  },
  {
   "cell_type": "markdown",
   "id": "93a841af5ef64dd7",
   "metadata": {},
   "source": [
    "## Parte 4:\n",
    "### Actividad\n",
    "1. Modifica el índice para que ignore mayúsculas/minúsculas (por ejemplo, \"Playa\" y \"playa\" deben considerarse iguales).\n",
    "2. Permite consultas de múltiples términos (ejemplo: buscar documentos que contengan \"playa\" y \"turismo\").\n",
    "3. Calcula el _speedup_"
   ]
  },
  {
   "cell_type": "code",
   "execution_count": 4,
   "id": "66741cbd7ba00bb6",
   "metadata": {},
   "outputs": [
    {
     "name": "stdout",
     "output_type": "stream",
     "text": [
      "\n",
      "Resultados de búsqueda:\n",
      "\n",
      "Búsqueda Lineal: ['../data/01_corpus_turismo.txt', '../data/01_corpus_turismo_500.txt']\n",
      "Búsqueda con Índice: []\n",
      "\n",
      "Tiempos:\n",
      "Búsqueda Lineal: 0.001444 segundos\n",
      "Búsqueda con Índice: 0.000148 segundos\n",
      "Speedup: 9.76 veces más rápido usando índice invertido\n"
     ]
    }
   ],
   "source": [
    "import os\n",
    "import re\n",
    "import time\n",
    "from collections import defaultdict\n",
    "\n",
    "archivos = ['../data/01_corpus_turismo.txt', '../data/01_corpus_turismo_500.txt']\n",
    "indice_invertido = defaultdict(set)\n",
    "\n",
    "for archivo in archivos:\n",
    "    if os.path.exists(archivo):\n",
    "        with open(archivo, 'r', encoding='utf-8') as f:\n",
    "            texto = f.read().lower()\n",
    "            palabras = re.findall(r'\\b\\w+\\b', texto)\n",
    "            for palabra in palabras:\n",
    "                indice_invertido[palabra].add(archivo)\n",
    "\n",
    "# Leer términos de búsqueda\n",
    "entrada = input(\"Ingresa las palabras a buscar (separadas por espacio): \")\n",
    "terminos = entrada.strip().lower().split()\n",
    "\n",
    "# Búsqueda múltiple lineal\n",
    "inicio_lineal = time.perf_counter()\n",
    "resultados_lineal = []\n",
    "for archivo in archivos:\n",
    "    if os.path.exists(archivo):\n",
    "        with open(archivo, 'r', encoding='utf-8') as f:\n",
    "            texto = f.read().lower()\n",
    "            if all(t in texto for t in terminos):\n",
    "                resultados_lineal.append(archivo)\n",
    "fin_lineal = time.perf_counter()\n",
    "\n",
    "# Búsqueda múltiple con índice\n",
    "inicio_indice = time.perf_counter()\n",
    "resultados_indice = None\n",
    "for termino in terminos:\n",
    "    archivos_que_tienen = indice_invertido.get(termino, set())\n",
    "    if resultados_indice is None:\n",
    "        resultados_indice = archivos_que_tienen.copy()\n",
    "    else:\n",
    "        resultados_indice = resultados_indice.intersection(archivos_que_tienen)\n",
    "if resultados_indice is None:\n",
    "    resultados_indice = set()\n",
    "fin_indice = time.perf_counter()\n",
    "\n",
    "# Cálculo de tiempos\n",
    "tiempo_lineal = fin_lineal - inicio_lineal\n",
    "tiempo_indice = fin_indice - inicio_indice\n",
    "speedup = tiempo_lineal / tiempo_indice if tiempo_indice > 0 else float('inf')\n",
    "\n",
    "print(\"\\nResultados de búsqueda:\\n\")\n",
    "print(\"Búsqueda Lineal:\", resultados_lineal)\n",
    "print(\"Búsqueda con Índice:\", list(resultados_indice))\n",
    "\n",
    "print(\"\\nTiempos:\")\n",
    "print(f\"Búsqueda Lineal: {tiempo_lineal:.6f} segundos\")\n",
    "print(f\"Búsqueda con Índice: {tiempo_indice:.6f} segundos\")\n",
    "print(f\"Speedup: {speedup:.2f} veces más rápido usando índice invertido\")"
   ]
  }
 ],
 "metadata": {
  "kernelspec": {
   "display_name": "Python 3",
   "language": "python",
   "name": "python3"
  },
  "language_info": {
   "codemirror_mode": {
    "name": "ipython",
    "version": 3
   },
   "file_extension": ".py",
   "mimetype": "text/x-python",
   "name": "python",
   "nbconvert_exporter": "python",
   "pygments_lexer": "ipython3",
   "version": "3.11.9"
  }
 },
 "nbformat": 4,
 "nbformat_minor": 5
}
